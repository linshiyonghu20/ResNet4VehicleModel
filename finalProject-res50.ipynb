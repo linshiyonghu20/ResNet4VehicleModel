{
 "cells": [
  {
   "cell_type": "code",
   "execution_count": 1,
   "metadata": {},
   "outputs": [],
   "source": [
    "## Technologies\n",
    "# CUDA toolkit 10.0\n",
    "# Tensorflow-gpu 2.0\n",
    "# cuDNN 7.6.4"
   ]
  },
  {
   "cell_type": "code",
   "execution_count": 2,
   "metadata": {},
   "outputs": [],
   "source": [
    "from scipy.io import loadmat\n",
    "import pandas as pd\n",
    "import numpy as np\n",
    "import tensorflow as tf\n",
    "from PIL import Image, ImageFile"
   ]
  },
  {
   "cell_type": "code",
   "execution_count": 2,
   "metadata": {},
   "outputs": [
    {
     "data": {
      "text/plain": [
       "VirtualDeviceConfiguration(memory_limit=6040)"
      ]
     },
     "execution_count": 2,
     "metadata": {},
     "output_type": "execute_result"
    }
   ],
   "source": [
    "ImageFile.LOAD_TRUNCATED_IMAGES = True\n",
    "tf.config.experimental.VirtualDeviceConfiguration(memory_limit=6040)"
   ]
  },
  {
   "cell_type": "code",
   "execution_count": 3,
   "metadata": {},
   "outputs": [
    {
     "name": "stdout",
     "output_type": "stream",
     "text": [
      "img nummber:  16185\n",
      "label number:  196\n"
     ]
    },
    {
     "data": {
      "text/html": [
       "<div>\n",
       "<style scoped>\n",
       "    .dataframe tbody tr th:only-of-type {\n",
       "        vertical-align: middle;\n",
       "    }\n",
       "\n",
       "    .dataframe tbody tr th {\n",
       "        vertical-align: top;\n",
       "    }\n",
       "\n",
       "    .dataframe thead th {\n",
       "        text-align: right;\n",
       "    }\n",
       "</style>\n",
       "<table border=\"1\" class=\"dataframe\">\n",
       "  <thead>\n",
       "    <tr style=\"text-align: right;\">\n",
       "      <th></th>\n",
       "      <th>imgPath</th>\n",
       "      <th>label</th>\n",
       "      <th>testTag</th>\n",
       "    </tr>\n",
       "  </thead>\n",
       "  <tbody>\n",
       "    <tr>\n",
       "      <th>16175</th>\n",
       "      <td>car_ims/016176.jpg</td>\n",
       "      <td>smart fortwo Convertible 2012</td>\n",
       "      <td>1</td>\n",
       "    </tr>\n",
       "    <tr>\n",
       "      <th>16176</th>\n",
       "      <td>car_ims/016177.jpg</td>\n",
       "      <td>smart fortwo Convertible 2012</td>\n",
       "      <td>1</td>\n",
       "    </tr>\n",
       "    <tr>\n",
       "      <th>16177</th>\n",
       "      <td>car_ims/016178.jpg</td>\n",
       "      <td>smart fortwo Convertible 2012</td>\n",
       "      <td>1</td>\n",
       "    </tr>\n",
       "    <tr>\n",
       "      <th>16178</th>\n",
       "      <td>car_ims/016179.jpg</td>\n",
       "      <td>smart fortwo Convertible 2012</td>\n",
       "      <td>1</td>\n",
       "    </tr>\n",
       "    <tr>\n",
       "      <th>16179</th>\n",
       "      <td>car_ims/016180.jpg</td>\n",
       "      <td>smart fortwo Convertible 2012</td>\n",
       "      <td>1</td>\n",
       "    </tr>\n",
       "    <tr>\n",
       "      <th>16180</th>\n",
       "      <td>car_ims/016181.jpg</td>\n",
       "      <td>smart fortwo Convertible 2012</td>\n",
       "      <td>1</td>\n",
       "    </tr>\n",
       "    <tr>\n",
       "      <th>16181</th>\n",
       "      <td>car_ims/016182.jpg</td>\n",
       "      <td>smart fortwo Convertible 2012</td>\n",
       "      <td>1</td>\n",
       "    </tr>\n",
       "    <tr>\n",
       "      <th>16182</th>\n",
       "      <td>car_ims/016183.jpg</td>\n",
       "      <td>smart fortwo Convertible 2012</td>\n",
       "      <td>1</td>\n",
       "    </tr>\n",
       "    <tr>\n",
       "      <th>16183</th>\n",
       "      <td>car_ims/016184.jpg</td>\n",
       "      <td>smart fortwo Convertible 2012</td>\n",
       "      <td>1</td>\n",
       "    </tr>\n",
       "    <tr>\n",
       "      <th>16184</th>\n",
       "      <td>car_ims/016185.jpg</td>\n",
       "      <td>smart fortwo Convertible 2012</td>\n",
       "      <td>1</td>\n",
       "    </tr>\n",
       "  </tbody>\n",
       "</table>\n",
       "</div>"
      ],
      "text/plain": [
       "                  imgPath                          label  testTag\n",
       "16175  car_ims/016176.jpg  smart fortwo Convertible 2012        1\n",
       "16176  car_ims/016177.jpg  smart fortwo Convertible 2012        1\n",
       "16177  car_ims/016178.jpg  smart fortwo Convertible 2012        1\n",
       "16178  car_ims/016179.jpg  smart fortwo Convertible 2012        1\n",
       "16179  car_ims/016180.jpg  smart fortwo Convertible 2012        1\n",
       "16180  car_ims/016181.jpg  smart fortwo Convertible 2012        1\n",
       "16181  car_ims/016182.jpg  smart fortwo Convertible 2012        1\n",
       "16182  car_ims/016183.jpg  smart fortwo Convertible 2012        1\n",
       "16183  car_ims/016184.jpg  smart fortwo Convertible 2012        1\n",
       "16184  car_ims/016185.jpg  smart fortwo Convertible 2012        1"
      ]
     },
     "execution_count": 3,
     "metadata": {},
     "output_type": "execute_result"
    }
   ],
   "source": [
    "#map betweem image names and labels \n",
    "matData = loadmat('./cars_annos.mat')\n",
    "\n",
    "labelsList = []\n",
    "for arr in matData['annotations'][0]:\n",
    "    imgPath = arr[0][0]\n",
    "    labelNum = arr[5][0][0]\n",
    "    splitTag = arr[6][0][0]\n",
    "    labelsList.append([imgPath, labelNum, splitTag])\n",
    "print(\"img nummber: \", len(labelsList))\n",
    "\n",
    "labelNameDict = {}\n",
    "labelList = []\n",
    "for i,arr in enumerate(matData['class_names'][0]):\n",
    "    labelName = arr[0]\n",
    "    labelNameDict[i+1] = labelName\n",
    "    labelList.append(labelName)\n",
    "print(\"label number: \", len(labelNameDict))\n",
    "\n",
    "labelsDF = pd.DataFrame(labelsList, columns=['imgPath', 'label', 'testTag'])\n",
    "labelsDF['label'] = labelsDF['label'].map(labelNameDict)\n",
    "labelsDF.tail(10)"
   ]
  },
  {
   "cell_type": "code",
   "execution_count": 4,
   "metadata": {},
   "outputs": [
    {
     "name": "stdout",
     "output_type": "stream",
     "text": [
      "amount of train set: 8144\n",
      "amount of test set: 8041\n",
      "amount of validationDF: 1000\n"
     ]
    }
   ],
   "source": [
    "#split train and test\n",
    "trainDF = labelsDF[labelsDF['testTag']==0]\n",
    "print(\"amount of train set:\", len(trainDF))\n",
    "testDF = labelsDF[labelsDF['testTag']==1]\n",
    "print(\"amount of test set:\", len(testDF))\n",
    "validationDF = testDF.sample(n=1000)\n",
    "print(\"amount of validationDF:\", len(validationDF))"
   ]
  },
  {
   "cell_type": "code",
   "execution_count": 9,
   "metadata": {},
   "outputs": [],
   "source": [
    "#model parms\n",
    "classNum = len(labelNameDict)\n",
    "classContent = labelList"
   ]
  },
  {
   "cell_type": "code",
   "execution_count": 8,
   "metadata": {},
   "outputs": [],
   "source": [
    "#base model\n",
    "base_model = tf.keras.applications.resnet.ResNet50(weights='resnet50_weights_tf_dim_ordering_tf_kernels_notop.h5', include_top=False)"
   ]
  },
  {
   "cell_type": "code",
   "execution_count": 9,
   "metadata": {},
   "outputs": [],
   "source": [
    "#add top layer\n",
    "top = base_model.output\n",
    "top = tf.keras.layers.GlobalAveragePooling2D()(top)\n",
    "top = tf.keras.layers.Flatten()(top)\n",
    "top = tf.keras.layers.Dense(2048, activation='relu', kernel_regularizer=tf.keras.regularizers.l2(0.0001))(top)\n",
    "top = tf.keras.layers.BatchNormalization()(top)\n",
    "top = tf.keras.layers.Dense(1024, activation='relu', kernel_regularizer=tf.keras.regularizers.l2(0.0001))(top)\n",
    "top = tf.keras.layers.BatchNormalization(name='bn_fc_01')(top)\n",
    "top_model = tf.keras.layers.Dense(classNum, activation='softmax')(top)"
   ]
  },
  {
   "cell_type": "code",
   "execution_count": 10,
   "metadata": {},
   "outputs": [],
   "source": [
    "# learning rate\n",
    "# adam = tf.keras.optimizers.Adam(lr=0.001, beta_1=0.9, beta_2=0.999, epsilon=1e-08)"
   ]
  },
  {
   "cell_type": "code",
   "execution_count": 11,
   "metadata": {},
   "outputs": [],
   "source": [
    "#create model\n",
    "model = tf.keras.models.Model(inputs=base_model.input, outputs=top_model)\n",
    "for layer in base_model.layers:\n",
    "    layer.trainable = False"
   ]
  },
  {
   "cell_type": "code",
   "execution_count": null,
   "metadata": {},
   "outputs": [],
   "source": [
    "#model load\n",
    "model = tf.keras.models.load_model('models/3/car.15-0.17.hdf5')"
   ]
  },
  {
   "cell_type": "code",
   "execution_count": null,
   "metadata": {},
   "outputs": [],
   "source": [
    "#model config\n",
    "model.compile(optimizer= 'adam', loss='categorical_crossentropy', metrics=['acc'])"
   ]
  },
  {
   "cell_type": "code",
   "execution_count": 16,
   "metadata": {},
   "outputs": [],
   "source": [
    "#call back functions\n",
    "early_stop = tf.keras.callbacks.EarlyStopping('acc', patience=5)\n",
    "model_checkpoint = tf.keras.callbacks.ModelCheckpoint('./models/car.{epoch:02d}-{val_acc:.2f}.hdf5', monitor='val_acc', verbose=1, save_best_only=True)\n",
    "reduce_lr = tf.keras.callbacks.ReduceLROnPlateau('loss', factor=0.1, patience=2)\n",
    "callbacks = [early_stop, model_checkpoint, reduce_lr]"
   ]
  },
  {
   "cell_type": "code",
   "execution_count": 6,
   "metadata": {},
   "outputs": [],
   "source": [
    "#data preprocess parms\n",
    "img_width, img_height = 224, 224\n",
    "batch_size = 10\n",
    "epochs = 5\n",
    "trainNum = 8000\n",
    "validNum = len(validationDF)"
   ]
  },
  {
   "cell_type": "code",
   "execution_count": 10,
   "metadata": {},
   "outputs": [
    {
     "name": "stdout",
     "output_type": "stream",
     "text": [
      "Found 8000 validated image filenames belonging to 196 classes.\n"
     ]
    }
   ],
   "source": [
    "#input data preprocess\n",
    "train_datagen = tf.keras.preprocessing.image.ImageDataGenerator(\n",
    "    rotation_range = 20,\n",
    "    width_shift_range = 0.1,\n",
    "    height_shift_range = 0.1,\n",
    "    zoom_range = 0.2,\n",
    "    horizontal_flip = True\n",
    ")\n",
    "train_generator = train_datagen.flow_from_dataframe(\n",
    "    trainDF.sample(n=trainNum),\n",
    "    target_size = (img_width, img_height),\n",
    "    x_col = 'imgPath',\n",
    "    y_col = 'label',\n",
    "    classes = classContent,\n",
    "    batch_size = batch_size,\n",
    "    class_mode = 'categorical'\n",
    ")"
   ]
  },
  {
   "cell_type": "code",
   "execution_count": 11,
   "metadata": {},
   "outputs": [
    {
     "name": "stdout",
     "output_type": "stream",
     "text": [
      "Found 1000 validated image filenames belonging to 196 classes.\n"
     ]
    }
   ],
   "source": [
    "#valid data preprocess\n",
    "valid_datagen = tf.keras.preprocessing.image.ImageDataGenerator()\n",
    "valid_generator = valid_datagen.flow_from_dataframe(\n",
    "    validationDF,\n",
    "    target_size = (img_width, img_height),\n",
    "    x_col = 'imgPath',\n",
    "    y_col = 'label',\n",
    "    classes = classContent,\n",
    "    batch_size = batch_size,\n",
    "    class_mode = 'categorical'\n",
    ")"
   ]
  },
  {
   "cell_type": "code",
   "execution_count": 13,
   "metadata": {},
   "outputs": [],
   "source": []
  },
  {
   "cell_type": "code",
   "execution_count": null,
   "metadata": {},
   "outputs": [
    {
     "name": "stdout",
     "output_type": "stream",
     "text": [
      "Epoch 1/25\n",
      "799/800 [============================>.] - ETA: 0s - loss: 1.1363 - acc: 0.8507\n",
      "Epoch 00001: val_acc did not improve from 0.21300\n",
      "800/800 [==============================] - 210s 263ms/step - loss: 1.1366 - acc: 0.8508 - val_loss: 6.8155 - val_acc: 0.2030\n",
      "Epoch 2/25\n",
      "799/800 [============================>.] - ETA: 0s - loss: 1.1342 - acc: 0.8487\n",
      "Epoch 00002: val_acc did not improve from 0.21300\n",
      "800/800 [==============================] - 211s 264ms/step - loss: 1.1341 - acc: 0.8487 - val_loss: 6.7035 - val_acc: 0.2050\n",
      "Epoch 3/25\n",
      "799/800 [============================>.] - ETA: 0s - loss: 1.1183 - acc: 0.8522\n",
      "Epoch 00003: val_acc did not improve from 0.21300\n",
      "800/800 [==============================] - 206s 258ms/step - loss: 1.1185 - acc: 0.8521 - val_loss: 6.7778 - val_acc: 0.2020\n",
      "Epoch 4/25\n",
      "799/800 [============================>.] - ETA: 0s - loss: 1.1162 - acc: 0.8577\n",
      "Epoch 00004: val_acc did not improve from 0.21300\n",
      "800/800 [==============================] - 205s 256ms/step - loss: 1.1161 - acc: 0.8576 - val_loss: 6.7408 - val_acc: 0.2070\n",
      "Epoch 5/25\n",
      "799/800 [============================>.] - ETA: 0s - loss: 1.1311 - acc: 0.8541\n",
      "Epoch 00005: val_acc did not improve from 0.21300\n",
      "800/800 [==============================] - 204s 255ms/step - loss: 1.1313 - acc: 0.8539 - val_loss: 6.6477 - val_acc: 0.2070\n",
      "Epoch 6/25\n",
      "799/800 [============================>.] - ETA: 0s - loss: 1.1150 - acc: 0.8542\n",
      "Epoch 00006: val_acc did not improve from 0.21300\n",
      "800/800 [==============================] - 205s 256ms/step - loss: 1.1145 - acc: 0.8544 - val_loss: 6.7414 - val_acc: 0.2090\n",
      "Epoch 7/25\n",
      "799/800 [============================>.] - ETA: 0s - loss: 1.0952 - acc: 0.8592\n",
      "Epoch 00007: val_acc did not improve from 0.21300\n",
      "800/800 [==============================] - 202s 253ms/step - loss: 1.0955 - acc: 0.8591 - val_loss: 6.8033 - val_acc: 0.2080\n",
      "Epoch 8/25\n",
      "799/800 [============================>.] - ETA: 0s - loss: 1.0955 - acc: 0.8630\n",
      "Epoch 00008: val_acc did not improve from 0.21300\n",
      "800/800 [==============================] - 205s 256ms/step - loss: 1.0962 - acc: 0.8630 - val_loss: 6.6752 - val_acc: 0.2080\n",
      "Epoch 9/25\n",
      "799/800 [============================>.] - ETA: 0s - loss: 1.1110 - acc: 0.8598\n",
      "Epoch 00009: val_acc did not improve from 0.21300\n",
      "800/800 [==============================] - 206s 257ms/step - loss: 1.1111 - acc: 0.8596 - val_loss: 6.7153 - val_acc: 0.2070\n",
      "Epoch 10/25\n",
      "799/800 [============================>.] - ETA: 0s - loss: 1.0983 - acc: 0.8608\n",
      "Epoch 00010: val_acc did not improve from 0.21300\n",
      "800/800 [==============================] - 209s 262ms/step - loss: 1.0982 - acc: 0.8609 - val_loss: 6.7835 - val_acc: 0.2060\n",
      "Epoch 11/25\n",
      "799/800 [============================>.] - ETA: 0s - loss: 1.0829 - acc: 0.8636\n",
      "Epoch 00011: val_acc did not improve from 0.21300\n",
      "800/800 [==============================] - 205s 257ms/step - loss: 1.0826 - acc: 0.8636 - val_loss: 6.8316 - val_acc: 0.2060\n",
      "Epoch 12/25\n",
      "799/800 [============================>.] - ETA: 0s - loss: 1.1126 - acc: 0.8569\n",
      "Epoch 00012: val_acc did not improve from 0.21300\n",
      "800/800 [==============================] - 207s 258ms/step - loss: 1.1124 - acc: 0.8570 - val_loss: 6.6988 - val_acc: 0.2040\n",
      "Epoch 13/25\n",
      "799/800 [============================>.] - ETA: 0s - loss: 1.0844 - acc: 0.8627\n",
      "Epoch 00013: val_acc did not improve from 0.21300\n",
      "800/800 [==============================] - 213s 266ms/step - loss: 1.0840 - acc: 0.8629 - val_loss: 6.8519 - val_acc: 0.2060\n",
      "Epoch 14/25\n",
      "596/800 [=====================>........] - ETA: 50s - loss: 1.0983 - acc: 0.8550"
     ]
    }
   ],
   "source": [
    "#train model\n",
    "model_history = model.fit_generator(\n",
    "    train_generator,\n",
    "    steps_per_epoch = trainNum / batch_size,\n",
    "    validation_data = valid_generator,\n",
    "    validation_steps = validNum / batch_size,\n",
    "    epochs = epochs,\n",
    "    callbacks = callbacks,\n",
    "    verbose=1\n",
    ")"
   ]
  }
 ],
 "metadata": {
  "kernelspec": {
   "display_name": "tensorflow2",
   "language": "python",
   "name": "tensorflow2"
  },
  "language_info": {
   "codemirror_mode": {
    "name": "ipython",
    "version": 3
   },
   "file_extension": ".py",
   "mimetype": "text/x-python",
   "name": "python",
   "nbconvert_exporter": "python",
   "pygments_lexer": "ipython3",
   "version": "3.7.5"
  }
 },
 "nbformat": 4,
 "nbformat_minor": 4
}
