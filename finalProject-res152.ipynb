{
 "cells": [
  {
   "cell_type": "code",
   "execution_count": 1,
   "metadata": {},
   "outputs": [],
   "source": [
    "## Technologies\n",
    "# CUDA toolkit 10.0\n",
    "# Tensorflow-gpu 2.0\n",
    "# cuDNN 7.6.4"
   ]
  },
  {
   "cell_type": "code",
   "execution_count": 2,
   "metadata": {},
   "outputs": [],
   "source": [
    "from scipy.io import loadmat\n",
    "import pandas as pd\n",
    "import numpy as np\n",
    "import tensorflow as tf\n",
    "from math import ceil\n",
    "from PIL import Image, ImageFile"
   ]
  },
  {
   "cell_type": "code",
   "execution_count": 3,
   "metadata": {},
   "outputs": [
    {
     "data": {
      "text/plain": [
       "VirtualDeviceConfiguration(memory_limit=6040)"
      ]
     },
     "execution_count": 3,
     "metadata": {},
     "output_type": "execute_result"
    }
   ],
   "source": [
    "ImageFile.LOAD_TRUNCATED_IMAGES = True\n",
    "tf.config.experimental.VirtualDeviceConfiguration(memory_limit=6040)"
   ]
  },
  {
   "cell_type": "code",
   "execution_count": 4,
   "metadata": {},
   "outputs": [
    {
     "name": "stdout",
     "output_type": "stream",
     "text": [
      "img nummber:  16185\n",
      "label number:  196\n"
     ]
    },
    {
     "data": {
      "text/html": [
       "<div>\n",
       "<style scoped>\n",
       "    .dataframe tbody tr th:only-of-type {\n",
       "        vertical-align: middle;\n",
       "    }\n",
       "\n",
       "    .dataframe tbody tr th {\n",
       "        vertical-align: top;\n",
       "    }\n",
       "\n",
       "    .dataframe thead th {\n",
       "        text-align: right;\n",
       "    }\n",
       "</style>\n",
       "<table border=\"1\" class=\"dataframe\">\n",
       "  <thead>\n",
       "    <tr style=\"text-align: right;\">\n",
       "      <th></th>\n",
       "      <th>imgPath</th>\n",
       "      <th>label</th>\n",
       "      <th>testTag</th>\n",
       "    </tr>\n",
       "  </thead>\n",
       "  <tbody>\n",
       "    <tr>\n",
       "      <th>16175</th>\n",
       "      <td>car_ims/016176.jpg</td>\n",
       "      <td>smart fortwo Convertible 2012</td>\n",
       "      <td>1</td>\n",
       "    </tr>\n",
       "    <tr>\n",
       "      <th>16176</th>\n",
       "      <td>car_ims/016177.jpg</td>\n",
       "      <td>smart fortwo Convertible 2012</td>\n",
       "      <td>1</td>\n",
       "    </tr>\n",
       "    <tr>\n",
       "      <th>16177</th>\n",
       "      <td>car_ims/016178.jpg</td>\n",
       "      <td>smart fortwo Convertible 2012</td>\n",
       "      <td>1</td>\n",
       "    </tr>\n",
       "    <tr>\n",
       "      <th>16178</th>\n",
       "      <td>car_ims/016179.jpg</td>\n",
       "      <td>smart fortwo Convertible 2012</td>\n",
       "      <td>1</td>\n",
       "    </tr>\n",
       "    <tr>\n",
       "      <th>16179</th>\n",
       "      <td>car_ims/016180.jpg</td>\n",
       "      <td>smart fortwo Convertible 2012</td>\n",
       "      <td>1</td>\n",
       "    </tr>\n",
       "    <tr>\n",
       "      <th>16180</th>\n",
       "      <td>car_ims/016181.jpg</td>\n",
       "      <td>smart fortwo Convertible 2012</td>\n",
       "      <td>1</td>\n",
       "    </tr>\n",
       "    <tr>\n",
       "      <th>16181</th>\n",
       "      <td>car_ims/016182.jpg</td>\n",
       "      <td>smart fortwo Convertible 2012</td>\n",
       "      <td>1</td>\n",
       "    </tr>\n",
       "    <tr>\n",
       "      <th>16182</th>\n",
       "      <td>car_ims/016183.jpg</td>\n",
       "      <td>smart fortwo Convertible 2012</td>\n",
       "      <td>1</td>\n",
       "    </tr>\n",
       "    <tr>\n",
       "      <th>16183</th>\n",
       "      <td>car_ims/016184.jpg</td>\n",
       "      <td>smart fortwo Convertible 2012</td>\n",
       "      <td>1</td>\n",
       "    </tr>\n",
       "    <tr>\n",
       "      <th>16184</th>\n",
       "      <td>car_ims/016185.jpg</td>\n",
       "      <td>smart fortwo Convertible 2012</td>\n",
       "      <td>1</td>\n",
       "    </tr>\n",
       "  </tbody>\n",
       "</table>\n",
       "</div>"
      ],
      "text/plain": [
       "                  imgPath                          label  testTag\n",
       "16175  car_ims/016176.jpg  smart fortwo Convertible 2012        1\n",
       "16176  car_ims/016177.jpg  smart fortwo Convertible 2012        1\n",
       "16177  car_ims/016178.jpg  smart fortwo Convertible 2012        1\n",
       "16178  car_ims/016179.jpg  smart fortwo Convertible 2012        1\n",
       "16179  car_ims/016180.jpg  smart fortwo Convertible 2012        1\n",
       "16180  car_ims/016181.jpg  smart fortwo Convertible 2012        1\n",
       "16181  car_ims/016182.jpg  smart fortwo Convertible 2012        1\n",
       "16182  car_ims/016183.jpg  smart fortwo Convertible 2012        1\n",
       "16183  car_ims/016184.jpg  smart fortwo Convertible 2012        1\n",
       "16184  car_ims/016185.jpg  smart fortwo Convertible 2012        1"
      ]
     },
     "execution_count": 4,
     "metadata": {},
     "output_type": "execute_result"
    }
   ],
   "source": [
    "#map betweem image names and labels \n",
    "matData = loadmat('./cars_annos.mat')\n",
    "\n",
    "labelsList = []\n",
    "for arr in matData['annotations'][0]:\n",
    "    imgPath = arr[0][0]\n",
    "    labelNum = arr[5][0][0]\n",
    "    splitTag = arr[6][0][0]\n",
    "    labelsList.append([imgPath, labelNum, splitTag])\n",
    "print(\"img nummber: \", len(labelsList))\n",
    "\n",
    "labelNameDict = {}\n",
    "labelList = []\n",
    "for i,arr in enumerate(matData['class_names'][0]):\n",
    "    labelName = arr[0]\n",
    "    labelNameDict[i+1] = labelName\n",
    "    labelList.append(labelName)\n",
    "print(\"label number: \", len(labelNameDict))\n",
    "\n",
    "labelsDF = pd.DataFrame(labelsList, columns=['imgPath', 'label', 'testTag'])\n",
    "labelsDF['label'] = labelsDF['label'].map(labelNameDict)\n",
    "labelsDF.tail(10)"
   ]
  },
  {
   "cell_type": "code",
   "execution_count": 5,
   "metadata": {},
   "outputs": [
    {
     "name": "stdout",
     "output_type": "stream",
     "text": [
      "amount of train set: 8144\n",
      "amount of test set: 8041\n",
      "amount of validationDF: 1000\n"
     ]
    }
   ],
   "source": [
    "#split train and test\n",
    "trainDF = labelsDF[labelsDF['testTag']==0]\n",
    "print(\"amount of train set:\", len(trainDF))\n",
    "testDF = labelsDF[labelsDF['testTag']==1]\n",
    "print(\"amount of test set:\", len(testDF))\n",
    "validationDF = testDF.sample(n=1000)\n",
    "print(\"amount of validationDF:\", len(validationDF))"
   ]
  },
  {
   "cell_type": "code",
   "execution_count": 6,
   "metadata": {},
   "outputs": [],
   "source": [
    "#model parms\n",
    "classNum = len(labelNameDict)\n",
    "classContent = labelList"
   ]
  },
  {
   "cell_type": "code",
   "execution_count": 7,
   "metadata": {},
   "outputs": [],
   "source": [
    "model = tf.keras.models.load_model('models-res152/1/car.16-0.18.hdf5')"
   ]
  },
  {
   "cell_type": "code",
   "execution_count": 8,
   "metadata": {},
   "outputs": [],
   "source": [
    "#base model\n",
    "#base_model = tf.keras.applications.resnet.ResNet152(weights='resnet152_weights_tf_dim_ordering_tf_kernels_notop.h5', include_top=False)"
   ]
  },
  {
   "cell_type": "code",
   "execution_count": 9,
   "metadata": {},
   "outputs": [
    {
     "data": {
      "text/plain": [
       "\"\\ntop = base_model.output\\ntop = tf.keras.layers.GlobalAveragePooling2D()(top)\\ntop = tf.keras.layers.Flatten()(top)\\ntop = tf.keras.layers.Dense(2048, activation='relu', kernel_regularizer=tf.keras.regularizers.l2(0.0001))(top)\\ntop = tf.keras.layers.BatchNormalization()(top)\\ntop = tf.keras.layers.Dense(1024, activation='relu', kernel_regularizer=tf.keras.regularizers.l2(0.0001))(top)\\ntop = tf.keras.layers.BatchNormalization(name='bn_fc_01')(top)\\ntop_model = tf.keras.layers.Dense(classNum, activation='softmax')(top)\\n\""
      ]
     },
     "execution_count": 9,
     "metadata": {},
     "output_type": "execute_result"
    }
   ],
   "source": [
    "'''\n",
    "top = base_model.output\n",
    "top = tf.keras.layers.GlobalAveragePooling2D()(top)\n",
    "top = tf.keras.layers.Flatten()(top)\n",
    "top = tf.keras.layers.Dense(2048, activation='relu', kernel_regularizer=tf.keras.regularizers.l2(0.0001))(top)\n",
    "top = tf.keras.layers.BatchNormalization()(top)\n",
    "top = tf.keras.layers.Dense(1024, activation='relu', kernel_regularizer=tf.keras.regularizers.l2(0.0001))(top)\n",
    "top = tf.keras.layers.BatchNormalization(name='bn_fc_01')(top)\n",
    "top_model = tf.keras.layers.Dense(classNum, activation='softmax')(top)\n",
    "'''"
   ]
  },
  {
   "cell_type": "code",
   "execution_count": 10,
   "metadata": {},
   "outputs": [],
   "source": [
    "'''\n",
    "model = tf.keras.models.Model(inputs=base_model.input, outputs=top_model)\n",
    "for layer in base_model.layers:\n",
    "    layer.trainable = False\n",
    "'''\n",
    "model.compile(optimizer= 'adam', loss='categorical_crossentropy', metrics=['acc'])"
   ]
  },
  {
   "cell_type": "code",
   "execution_count": 11,
   "metadata": {},
   "outputs": [],
   "source": [
    "#call back functions\n",
    "early_stop = tf.keras.callbacks.EarlyStopping('loss', patience=5)\n",
    "model_checkpoint = tf.keras.callbacks.ModelCheckpoint('./models-res152/car.{epoch:02d}-{val_acc:.2f}.hdf5', monitor='val_acc', verbose=1, save_best_only=True)\n",
    "reduce_lr = tf.keras.callbacks.ReduceLROnPlateau('loss', factor=0.1, patience=1)\n",
    "callbacks = [early_stop, model_checkpoint, reduce_lr]"
   ]
  },
  {
   "cell_type": "code",
   "execution_count": 12,
   "metadata": {},
   "outputs": [],
   "source": [
    "#data preprocess parms\n",
    "img_width, img_height = 224, 224\n",
    "batch_size = 5\n",
    "epochs = 100\n",
    "trainNum = len(trainDF)\n",
    "validNum = len(validationDF)"
   ]
  },
  {
   "cell_type": "code",
   "execution_count": 13,
   "metadata": {},
   "outputs": [
    {
     "name": "stdout",
     "output_type": "stream",
     "text": [
      "Found 8144 validated image filenames belonging to 196 classes.\n"
     ]
    }
   ],
   "source": [
    "#input data preprocess\n",
    "train_datagen = tf.keras.preprocessing.image.ImageDataGenerator(\n",
    "    rotation_range = 20,\n",
    "    width_shift_range = 0.1,\n",
    "    height_shift_range = 0.1,\n",
    "    zoom_range = 0.2,\n",
    "    horizontal_flip = True\n",
    ")\n",
    "train_generator = train_datagen.flow_from_dataframe(\n",
    "    trainDF.sample(n=trainNum),\n",
    "    target_size = (img_width, img_height),\n",
    "    x_col = 'imgPath',\n",
    "    y_col = 'label',\n",
    "    classes = classContent,\n",
    "    batch_size = batch_size,\n",
    "    class_mode = 'categorical'\n",
    ")"
   ]
  },
  {
   "cell_type": "code",
   "execution_count": 14,
   "metadata": {},
   "outputs": [
    {
     "name": "stdout",
     "output_type": "stream",
     "text": [
      "Found 1000 validated image filenames belonging to 196 classes.\n"
     ]
    }
   ],
   "source": [
    "#valid data preprocess\n",
    "valid_datagen = tf.keras.preprocessing.image.ImageDataGenerator()\n",
    "valid_generator = valid_datagen.flow_from_dataframe(\n",
    "    validationDF,\n",
    "    target_size = (img_width, img_height),\n",
    "    x_col = 'imgPath',\n",
    "    y_col = 'label',\n",
    "    classes = classContent,\n",
    "    batch_size = batch_size,\n",
    "    class_mode = 'categorical'\n",
    ")"
   ]
  },
  {
   "cell_type": "code",
   "execution_count": 15,
   "metadata": {},
   "outputs": [
    {
     "name": "stdout",
     "output_type": "stream",
     "text": [
      "Epoch 1/100\n",
      "1628/1629 [============================>.] - ETA: 0s - loss: 3.6346 - acc: 0.3494\n",
      "Epoch 00001: val_acc improved from -inf to 0.17900, saving model to ./models-res152/car.01-0.18.hdf5\n",
      "1629/1629 [==============================] - 794s 488ms/step - loss: 3.6334 - acc: 0.3498 - val_loss: 6.6061 - val_acc: 0.1790\n",
      "Epoch 2/100\n",
      "1628/1629 [============================>.] - ETA: 0s - loss: 3.5784 - acc: 0.3640\n",
      "Epoch 00002: val_acc did not improve from 0.17900\n",
      "1629/1629 [==============================] - 779s 478ms/step - loss: 3.5782 - acc: 0.3639 - val_loss: 8.1299 - val_acc: 0.1510\n",
      "Epoch 3/100\n",
      "1628/1629 [============================>.] - ETA: 0s - loss: 3.5391 - acc: 0.3731\n",
      "Epoch 00003: val_acc did not improve from 0.17900\n",
      "1629/1629 [==============================] - 800s 491ms/step - loss: 3.5390 - acc: 0.3732 - val_loss: 8.6507 - val_acc: 0.1520\n",
      "Epoch 4/100\n",
      "1628/1629 [============================>.] - ETA: 0s - loss: 3.4724 - acc: 0.3763\n",
      "Epoch 00004: val_acc did not improve from 0.17900\n",
      "1629/1629 [==============================] - 798s 490ms/step - loss: 3.4723 - acc: 0.3764 - val_loss: 7.6813 - val_acc: 0.1530\n",
      "Epoch 5/100\n",
      "1628/1629 [============================>.] - ETA: 0s - loss: 3.3760 - acc: 0.3878\n",
      "Epoch 00005: val_acc did not improve from 0.17900\n",
      "1629/1629 [==============================] - 787s 483ms/step - loss: 3.3762 - acc: 0.3878 - val_loss: 7.5907 - val_acc: 0.1620\n",
      "Epoch 6/100\n",
      "1628/1629 [============================>.] - ETA: 0s - loss: 3.2891 - acc: 0.3912\n",
      "Epoch 00006: val_acc improved from 0.17900 to 0.18100, saving model to ./models-res152/car.06-0.18.hdf5\n",
      "1629/1629 [==============================] - 784s 481ms/step - loss: 3.2891 - acc: 0.3912 - val_loss: 7.2408 - val_acc: 0.1810\n",
      "Epoch 7/100\n",
      "1628/1629 [============================>.] - ETA: 0s - loss: 3.2724 - acc: 0.4079\n",
      "Epoch 00007: val_acc did not improve from 0.18100\n",
      "1629/1629 [==============================] - 780s 479ms/step - loss: 3.2720 - acc: 0.4079 - val_loss: 7.4376 - val_acc: 0.1650\n",
      "Epoch 8/100\n",
      "1628/1629 [============================>.] - ETA: 0s - loss: 3.2615 - acc: 0.4032\n",
      "Epoch 00008: val_acc improved from 0.18100 to 0.21000, saving model to ./models-res152/car.08-0.21.hdf5\n",
      "1629/1629 [==============================] - 784s 481ms/step - loss: 3.2614 - acc: 0.4032 - val_loss: 6.5388 - val_acc: 0.2100\n",
      "Epoch 9/100\n",
      "1628/1629 [============================>.] - ETA: 0s - loss: 3.2150 - acc: 0.4019\n",
      "Epoch 00009: val_acc did not improve from 0.21000\n",
      "1629/1629 [==============================] - 783s 481ms/step - loss: 3.2143 - acc: 0.4020 - val_loss: 6.9075 - val_acc: 0.1900\n",
      "Epoch 10/100\n",
      "1628/1629 [============================>.] - ETA: 0s - loss: 3.1767 - acc: 0.4138\n",
      "Epoch 00010: val_acc did not improve from 0.21000\n",
      "1629/1629 [==============================] - 780s 479ms/step - loss: 3.1769 - acc: 0.4138 - val_loss: 7.2743 - val_acc: 0.1940\n",
      "Epoch 11/100\n",
      "1628/1629 [============================>.] - ETA: 0s - loss: 3.2054 - acc: 0.4075\n",
      "Epoch 00011: val_acc did not improve from 0.21000\n",
      "1629/1629 [==============================] - 789s 484ms/step - loss: 3.2056 - acc: 0.4074 - val_loss: 6.3322 - val_acc: 0.2000\n",
      "Epoch 12/100\n",
      "1628/1629 [============================>.] - ETA: 0s - loss: 2.8319 - acc: 0.4865\n",
      "Epoch 00012: val_acc improved from 0.21000 to 0.23100, saving model to ./models-res152/car.12-0.23.hdf5\n",
      "1629/1629 [==============================] - 783s 481ms/step - loss: 2.8321 - acc: 0.4866 - val_loss: 5.9632 - val_acc: 0.2310\n",
      "Epoch 13/100\n",
      "1628/1629 [============================>.] - ETA: 0s - loss: 2.6877 - acc: 0.5208\n",
      "Epoch 00013: val_acc did not improve from 0.23100\n",
      "1629/1629 [==============================] - 777s 477ms/step - loss: 2.6888 - acc: 0.5206 - val_loss: 5.9795 - val_acc: 0.2240\n",
      "Epoch 14/100\n",
      "1628/1629 [============================>.] - ETA: 0s - loss: 2.6345 - acc: 0.5264\n",
      "Epoch 00014: val_acc did not improve from 0.23100\n",
      "1629/1629 [==============================] - 783s 481ms/step - loss: 2.6350 - acc: 0.5263 - val_loss: 6.2468 - val_acc: 0.2200\n",
      "Epoch 15/100\n",
      "1628/1629 [============================>.] - ETA: 0s - loss: 2.5366 - acc: 0.5455\n",
      "Epoch 00015: val_acc improved from 0.23100 to 0.24400, saving model to ./models-res152/car.15-0.24.hdf5\n",
      "1629/1629 [==============================] - 783s 481ms/step - loss: 2.5370 - acc: 0.5454 - val_loss: 5.7960 - val_acc: 0.2440\n",
      "Epoch 16/100\n",
      "1628/1629 [============================>.] - ETA: 0s - loss: 2.4651 - acc: 0.5512\n",
      "Epoch 00016: val_acc did not improve from 0.24400\n",
      "1629/1629 [==============================] - 775s 476ms/step - loss: 2.4655 - acc: 0.5512 - val_loss: 5.7221 - val_acc: 0.2420\n",
      "Epoch 17/100\n",
      "1628/1629 [============================>.] - ETA: 0s - loss: 2.4510 - acc: 0.5519\n",
      "Epoch 00017: val_acc did not improve from 0.24400\n",
      "1629/1629 [==============================] - 784s 481ms/step - loss: 2.4513 - acc: 0.5518 - val_loss: 5.4609 - val_acc: 0.2410\n",
      "Epoch 18/100\n",
      "1628/1629 [============================>.] - ETA: 0s - loss: 2.3768 - acc: 0.5647\n",
      "Epoch 00018: val_acc did not improve from 0.24400\n",
      "1629/1629 [==============================] - 802s 493ms/step - loss: 2.3774 - acc: 0.5646 - val_loss: 5.6886 - val_acc: 0.2420\n",
      "Epoch 19/100\n",
      "1628/1629 [============================>.] - ETA: 0s - loss: 2.3830 - acc: 0.5627\n",
      "Epoch 00019: val_acc improved from 0.24400 to 0.25400, saving model to ./models-res152/car.19-0.25.hdf5\n",
      "1629/1629 [==============================] - 795s 488ms/step - loss: 2.3831 - acc: 0.5629 - val_loss: 5.5494 - val_acc: 0.2540\n",
      "Epoch 20/100\n",
      "1628/1629 [============================>.] - ETA: 0s - loss: 2.2885 - acc: 0.5878\n",
      "Epoch 00020: val_acc improved from 0.25400 to 0.25900, saving model to ./models-res152/car.20-0.26.hdf5\n",
      "1629/1629 [==============================] - 803s 493ms/step - loss: 2.2881 - acc: 0.5879 - val_loss: 5.4908 - val_acc: 0.2590\n",
      "Epoch 21/100\n",
      "1628/1629 [============================>.] - ETA: 0s - loss: 2.3242 - acc: 0.5748\n",
      "Epoch 00021: val_acc did not improve from 0.25900\n",
      "1629/1629 [==============================] - 781s 479ms/step - loss: 2.3236 - acc: 0.5749 - val_loss: 5.5217 - val_acc: 0.2570\n",
      "Epoch 22/100\n",
      "1628/1629 [============================>.] - ETA: 0s - loss: 2.3055 - acc: 0.5836\n",
      "Epoch 00022: val_acc improved from 0.25900 to 0.26200, saving model to ./models-res152/car.22-0.26.hdf5\n",
      "1629/1629 [==============================] - 790s 485ms/step - loss: 2.3064 - acc: 0.5833 - val_loss: 5.4579 - val_acc: 0.2620\n",
      "Epoch 23/100\n",
      "1628/1629 [============================>.] - ETA: 0s - loss: 2.3058 - acc: 0.5805\n",
      "Epoch 00023: val_acc did not improve from 0.26200\n",
      "1629/1629 [==============================] - 783s 481ms/step - loss: 2.3082 - acc: 0.5802 - val_loss: 5.4782 - val_acc: 0.2580\n",
      "Epoch 24/100\n",
      "1628/1629 [============================>.] - ETA: 0s - loss: 2.2909 - acc: 0.5861\n",
      "Epoch 00024: val_acc did not improve from 0.26200\n",
      "1629/1629 [==============================] - 776s 477ms/step - loss: 2.2907 - acc: 0.5862 - val_loss: 5.5129 - val_acc: 0.2520\n",
      "Epoch 25/100\n",
      "1628/1629 [============================>.] - ETA: 0s - loss: 2.3096 - acc: 0.5832\n",
      "Epoch 00025: val_acc did not improve from 0.26200\n",
      "1629/1629 [==============================] - 782s 480ms/step - loss: 2.3100 - acc: 0.5831 - val_loss: 5.4780 - val_acc: 0.2550\n"
     ]
    }
   ],
   "source": [
    "#train model\n",
    "model_history = model.fit_generator(\n",
    "    train_generator,\n",
    "    steps_per_epoch = ceil(trainNum / batch_size),\n",
    "    validation_data = valid_generator,\n",
    "    validation_steps = ceil(validNum / batch_size),\n",
    "    epochs = epochs,\n",
    "    callbacks = callbacks,\n",
    "    verbose=1\n",
    ")"
   ]
  },
  {
   "cell_type": "code",
   "execution_count": null,
   "metadata": {},
   "outputs": [],
   "source": []
  }
 ],
 "metadata": {
  "kernelspec": {
   "display_name": "tensorflow2",
   "language": "python",
   "name": "tensorflow2"
  },
  "language_info": {
   "codemirror_mode": {
    "name": "ipython",
    "version": 3
   },
   "file_extension": ".py",
   "mimetype": "text/x-python",
   "name": "python",
   "nbconvert_exporter": "python",
   "pygments_lexer": "ipython3",
   "version": "3.7.5"
  }
 },
 "nbformat": 4,
 "nbformat_minor": 4
}
